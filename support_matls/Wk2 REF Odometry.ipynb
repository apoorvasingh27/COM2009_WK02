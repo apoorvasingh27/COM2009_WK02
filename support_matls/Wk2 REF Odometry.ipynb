{
 "cells": [
  {
   "cell_type": "markdown",
   "metadata": {},
   "source": [
    "# Week 2\n",
    "\n",
    "## The `geometry_msgs/Odometry` message"
   ]
  },
  {
   "cell_type": "markdown",
   "metadata": {},
   "source": [
    "The `rosmsg info` command provides us with the following information when used to interrogate the `nav_msgs/Odometry` message:"
   ]
  },
  {
   "cell_type": "markdown",
   "metadata": {},
   "source": [
    "`$ rosmsg info nav_msgs/Odometry`:\n",
    "\n",
    "    std_msgs/Header header\n",
    "      uint32 seq\n",
    "      time stamp\n",
    "      string frame_id\n",
    "    string child_frame_id\n",
    "    geometry_msgs/PoseWithCovariance pose\n",
    "      geometry_msgs/Pose pose\n",
    "        geometry_msgs/Point position\n",
    "          float64 x\n",
    "          float64 y\n",
    "          float64 z\n",
    "        geometry_msgs/Quaternion orientation\n",
    "          float64 x\n",
    "          float64 y\n",
    "          float64 z\n",
    "          float64 w\n",
    "      float64[36] covariance\n",
    "    geometry_msgs/TwistWithCovariance twist\n",
    "      geometry_msgs/Twist twist\n",
    "        geometry_msgs/Vector3 linear\n",
    "          float64 x\n",
    "          float64 y\n",
    "          float64 z\n",
    "        geometry_msgs/Vector3 angular\n",
    "          float64 x\n",
    "          float64 y\n",
    "          float64 z\n",
    "      float64[36] covariance"
   ]
  },
  {
   "cell_type": "markdown",
   "metadata": {},
   "source": [
    "This is explained further in the following figure, which has been colour coded for clarity:\n",
    "\n",
    "<img src=\"rosmsg_info_Odometry2.png\">\n"
   ]
  },
  {
   "cell_type": "markdown",
   "metadata": {},
   "source": [
    "Odometry messages (like all ROS messages) have a *nested structure*, where in this case we have 4 base elements, with the following content:\n",
    "* header\n",
    "    * seq\n",
    "    * stamp\n",
    "    * frame_id\n",
    "* child_frame_id\n",
    "* pose\n",
    "    * pose\n",
    "        * position\n",
    "            * x\n",
    "            * y\n",
    "            * z\n",
    "        * orientation\n",
    "            * x\n",
    "            * y\n",
    "            * z\n",
    "            * w\n",
    "    * covariance\n",
    "* twist\n",
    "    * twist\n",
    "        * linear\n",
    "            * x\n",
    "            * y\n",
    "            * z\n",
    "        * angular\n",
    "            * x\n",
    "            * y\n",
    "            * z\n",
    "    * covariance\n",
    "\n",
    "`rosmsg info` provides the element **name** after the **element type**.  Elements in red are **types** of *ROS message* (which is apparent due to the two-part format separated by a forward slash `/`).  The element **name** then follows this (as shown in green).\n",
    "\n",
    "Where the line doesn't start with a ROS message type, then this is an actual variable (i.e. data), and these lines are structured with the **data type** (in blue) followed by the **variable name** (in purple).\n",
    "\n",
    "To access a variable from a message you must correctly define the full path to it within the structure of the whole ROS message.  Three examples of this are provided in the figure to illustrate how this applies to the Odometry message type specifically.   "
   ]
  },
  {
   "cell_type": "markdown",
   "metadata": {},
   "source": [
    "Tom Howard  \n",
    "The University of Sheffield  \n",
    "Last Updated: 23/01/2020"
   ]
  }
 ],
 "metadata": {
  "kernelspec": {
   "display_name": "Python 2",
   "language": "python",
   "name": "python2"
  },
  "language_info": {
   "codemirror_mode": {
    "name": "ipython",
    "version": 2
   },
   "file_extension": ".py",
   "mimetype": "text/x-python",
   "name": "python",
   "nbconvert_exporter": "python",
   "pygments_lexer": "ipython2",
   "version": "2.7.16"
  }
 },
 "nbformat": 4,
 "nbformat_minor": 2
}
