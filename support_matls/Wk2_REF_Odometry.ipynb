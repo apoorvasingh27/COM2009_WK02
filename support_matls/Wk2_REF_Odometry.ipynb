{
 "cells": [
  {
   "cell_type": "markdown",
   "metadata": {
    "deletable": false,
    "editable": false
   },
   "source": [
    "# Week 2\n",
    "\n",
    "## The `geometry_msgs/Odometry` message\n",
    "\n",
    "The `rosmsg info` command provides us with the following information when used to interrogate the `nav_msgs/Odometry` message:\n",
    "\n",
    "`$ rosmsg info nav_msgs/Odometry`:\n",
    "\n",
    "    std_msgs/Header header\n",
    "      uint32 seq\n",
    "      time stamp\n",
    "      string frame_id\n",
    "    string child_frame_id\n",
    "    geometry_msgs/PoseWithCovariance pose\n",
    "      geometry_msgs/Pose pose\n",
    "        geometry_msgs/Point position\n",
    "          float64 x\n",
    "          float64 y\n",
    "          float64 z\n",
    "        geometry_msgs/Quaternion orientation\n",
    "          float64 x\n",
    "          float64 y\n",
    "          float64 z\n",
    "          float64 w\n",
    "      float64[36] covariance\n",
    "    geometry_msgs/TwistWithCovariance twist\n",
    "      geometry_msgs/Twist twist\n",
    "        geometry_msgs/Vector3 linear\n",
    "          float64 x\n",
    "          float64 y\n",
    "          float64 z\n",
    "        geometry_msgs/Vector3 angular\n",
    "          float64 x\n",
    "          float64 y\n",
    "          float64 z\n",
    "      float64[36] covariance"
   ]
  },
  {
   "cell_type": "markdown",
   "metadata": {
    "deletable": false,
    "editable": false
   },
   "source": [
    "## The `geometry_msgs/Odometry` message *illustrated*\n",
    "\n",
    "This is explained further in the following figure, which has been colour coded for clarity:\n",
    "\n",
    "<img src=\"rosmsg_info_Odometry2.png\">\n",
    "\n",
    "\n",
    "Odometry messages (like all ROS messages) have a *nested structure*, where in this case we have **4 base elements**, with the following content:\n",
    "* **header**\n",
    "    * seq\n",
    "    * stamp\n",
    "    * frame_id\n",
    "* **child_frame_id**\n",
    "* **pose**\n",
    "    * pose\n",
    "        * position\n",
    "            * x\n",
    "            * y\n",
    "            * z\n",
    "        * orientation\n",
    "            * x\n",
    "            * y\n",
    "            * z\n",
    "            * w\n",
    "    * covariance\n",
    "* **twist**\n",
    "    * twist\n",
    "        * linear\n",
    "            * x\n",
    "            * y\n",
    "            * z\n",
    "        * angular\n",
    "            * x\n",
    "            * y\n",
    "            * z\n",
    "    * covariance\n",
    "\n",
    "As shown in the figure, the `rosmsg info` command provides the element **name** after the **element type**.  Elements in red are **types** of *ROS message* (which is apparent due to the two-part format separated by a forward slash `/`).  The element **name** then follows this (as shown in green).\n",
    "\n",
    "Where the line doesn't start with a ROS message type, then this is an actual variable (i.e. data), and these lines are structured with the **data type** (in blue) followed by the **variable name** (in purple).\n",
    "\n",
    "To access a variable from a message **in python** you must correctly define the full path to it within the structure of the whole ROS message.  Three examples of this are provided in the figure to illustrate how this applies to the Odometry message type specifically.   "
   ]
  },
  {
   "cell_type": "markdown",
   "metadata": {
    "deletable": false,
    "editable": false
   },
   "source": [
    "## Building Python Nodes to Work with Odometry\n",
    "\n",
    "First, you will need to import the `Odometry` message type from the `nav_msgs` package:\n",
    "```python\n",
    "from nav_msgs.msg import Odometry\n",
    "```\n",
    "When you set up your `rospy.Subscriber` you need to tell it the name of the topic that the odometry data is being published to, and you also need to then supply the `Odometry` message *type* that you have just imported, so that the `rospy.Subscriber` knows how to process the topic data.\n",
    "```python\n",
    "subscriber_object = rospy.Subscriber(\"[odometry topic]\", Odometry, callback_function)\n",
    "```\n",
    "In addition to this you also need to supply the name of a function that *should be defined earlier in your python code* and which *does something* with the message data.  In this case, we are referencing a function called `callback_function`.\n",
    "\n",
    "The `callback_function` is the function within which you will process your odometry data:\n",
    "```python\n",
    "def callback_function(odom_data):\n",
    "```\n",
    "The function can take only **one input parameter**, in this case we are calling it `odom_data`.  This is where the `rospy.Subscriber` instance that we set up earlier will put the data that it obtains from the `\"[odometry topic]\"` whenever new topic data is published.\n",
    "\n",
    "**Note:** *If you are building this within a Python Class (like we did in the [subscriber example from Week 1](../past_weeks/COM2009_WK01/wk01_ROS_Concepts_1.ipynb#Exercise-5:-Creating-a-Subscriber-Node)), then don't forget to include a `self` parameter before the `odom_data` input.  This is an essential part of a [class instance method](https://realpython.com/instance-class-and-static-methods-demystified/#instance-methods), and the function itself still has only one real input parameter for the `rospy.Subscriber` instance to use:*\n",
    "```python\n",
    "class a_python_class:\n",
    "    def callback_function(self, odom_data):\n",
    "```\n",
    "### Obtaining the message data\n",
    "Within the callback function we then obtain the message data from the `odom_data` input parameter.  As an example, we can obtain the **linear position** of our robot in the **x axis** by walking through the nested structure of the message (as shown in the [figure above](#The-geometry_msgs/Odometry-message-illustrated)), separating the element names with `.`.  In this example, the `odom_data.pose.pose.position.x` portion of the message is assigned to the variable `linear_x`: \n",
    "```python\n",
    "    linear_x = odom_data.pose.pose.position.x\n",
    "```\n",
    "\n",
    "**Note:** *In your code, you will need to define the callback function **before** you define the `rospy.Subscriber` instance, otherwise you will get an error.  See the [week 1 subscriber example](../past_weeks/COM2009_WK01/wk01_ROS_Concepts_1.ipynb#Exercise-5:-Creating-a-Subscriber-Node) for guidance.*"
   ]
  },
  {
   "cell_type": "markdown",
   "metadata": {
    "deletable": false,
    "editable": false
   },
   "source": [
    "Tom Howard  \n",
    "The University of Sheffield  \n",
    "Last Updated: 17/02/2020"
   ]
  }
 ],
 "metadata": {
  "kernelspec": {
   "display_name": "Python 2",
   "language": "python",
   "name": "python2"
  },
  "language_info": {
   "codemirror_mode": {
    "name": "ipython",
    "version": 2
   },
   "file_extension": ".py",
   "mimetype": "text/x-python",
   "name": "python",
   "nbconvert_exporter": "python",
   "pygments_lexer": "ipython2",
   "version": "2.7.16"
  }
 },
 "nbformat": 4,
 "nbformat_minor": 2
}
