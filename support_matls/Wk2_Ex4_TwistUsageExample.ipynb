{
 "cells": [
  {
   "cell_type": "markdown",
   "metadata": {
    "deletable": false,
    "editable": false
   },
   "source": [
    "# Week 2\n",
    "\n",
    "## Exercise 4: Creating a python node to make the TurtleBot3 move"
   ]
  },
  {
   "cell_type": "markdown",
   "metadata": {
    "deletable": false,
    "editable": false
   },
   "source": [
    "### Usage Example: Using `Twist` messages"
   ]
  },
  {
   "cell_type": "markdown",
   "metadata": {
    "deletable": false,
    "editable": false
   },
   "source": [
    "First, you need to import the `rospy` library, as well as the `Twist` message type from the `geometry_msgs.msg` library:\n",
    "```python\n",
    "import rospy\n",
    "from geometry_msgs.msg import Twist\n",
    "```\n",
    "Then we create an instance of a rospy.Publisher() and assign it to an object called `pub`.  When we create the object we tell the `Publisher()` method which topic we want to publish this message to (the first argument), and also that we will be publishing a message of the `Twist` type (the second argument):\n",
    "```python\n",
    "pub = rospy.Publisher([topic_name], Twist, queue_size=[a_queue_size]) \n",
    "```\n",
    "We can then create a `Twist()` message instance and assign it to an object called `vel_cmd`:\n",
    "```python\n",
    "vel_cmd = Twist()\n",
    "```\n",
    "Using the `$ rosmsg info geometry_msgs/Twist` command in a terminal window, we can learn that the `geometry_msgs/Twist` message is of the format: \n",
    "\n",
    "    geometry_msgs/Vector3 linear\n",
    "      float64 x\n",
    "      float64 y\n",
    "      float64 z\n",
    "    geometry_msgs/Vector3 angular\n",
    "      float64 x\n",
    "      float64 y\n",
    "      float64 z\n",
    "\n",
    "We also know, based on the differential drive configuration of our TurtleBot3 Waffle Robot, that **only** velocity commands issued to the: \n",
    "\n",
    "    geometry_msgs/Vector3 linear\n",
    "      float64 x\n",
    "\n",
    "or: \n",
    "\n",
    "    geometry_msgs/Vector3 angular\n",
    "      float64 z\n",
    "\n",
    "\n",
    "variables will have any effect on the speed of our robot.\n",
    "\n",
    "As such, we can the set velocity values to the instance of the `Twist()` message that we have assigned to `vel_cmd` as required:\n",
    "```python\n",
    "vel_cmd.linear.x = 0.0 # m/s\n",
    "vel_cmd.angular.z = 0.0 # rad/s\n",
    "```\n",
    "We can then publish this to the relevant topic on our ROS system by supplying it to the `rospy.Publisher()` method that we assigned to `pub` earlier:\n",
    "```python\n",
    "pub.publish(vel_cmd)\n",
    "```"
   ]
  },
  {
   "cell_type": "markdown",
   "metadata": {
    "deletable": false,
    "editable": false
   },
   "source": [
    "Tom Howard  \n",
    "The University of Sheffield  \n",
    "Last Updated: 10/01/2020"
   ]
  }
 ],
 "metadata": {
  "kernelspec": {
   "display_name": "Python 2",
   "language": "python",
   "name": "python2"
  },
  "language_info": {
   "codemirror_mode": {
    "name": "ipython",
    "version": 2
   },
   "file_extension": ".py",
   "mimetype": "text/x-python",
   "name": "python",
   "nbconvert_exporter": "python",
   "pygments_lexer": "ipython2",
   "version": "2.7.16"
  }
 },
 "nbformat": 4,
 "nbformat_minor": 2
}
