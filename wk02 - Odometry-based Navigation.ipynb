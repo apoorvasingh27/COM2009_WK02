{
 "cells": [
  {
   "cell_type": "markdown",
   "metadata": {},
   "source": [
    "# Week 2: Odometry-Based Navigation\n",
    "## Learning Objectives\n",
    "* Understand how odometry data relates to the *position* and *motion* of your Robot\n",
    "* Issue commands to the TurtleBot3 robot to make it move\n",
    "* Write python scripts to work with odometry data and perform navigation with your robot (dead-reckoning navigation)\n",
    "\n",
    "## Introduction\n",
    "\n",
    "In a ROS robot, basic navigation is achieved by sending velocity commands to the wheel motors and by using **odometry** to approximate where the robot is. "
   ]
  },
  {
   "cell_type": "markdown",
   "metadata": {},
   "source": [
    "## Launching the Robot Simulation\n",
    "1. Open the **Tools** menu in the top left hand corner of your workspace and select **Gazebo** to open up a *Gazebo Simulation Instance*\n",
    "* Enter the **Tools** menu again and select **Shell** to open up a *Linux terminal window*\n",
    "* In the terminal enter the following command to launch a TurtleBot3 simulation model in an empty world:\n",
    "\n",
    "    `$ roslaunch turtlebot3_gazebo turtlebot3_empty_world.launch`\n",
    "\n",
    "\n",
    "**NOTE:** *A command starting with a `$` indicates a complete command that can be typed (or copied and pasted) directly into a terminal.  Enter all the text except for the `$` symbol*\n",
    "\n",
    "In the Gazebo simulation window, you should see a *TurtleBot3 Waffle* in empty space:\n",
    "<img src=\"figures/Gazebo_TB3_EmptyWorld.PNG\">"
   ]
  },
  {
   "cell_type": "markdown",
   "metadata": {},
   "source": [
    "## Basic Navigation\n",
    "As you will have already learnt from the \"Introduction to the TurtleBot3 Waffle\" section of your labsheet, the robot has the following sensors and actuators on-board to allow the robot to navigate:\n",
    "* Two independently controlled wheel motors (*differential drive*)\n",
    "* An Inertial Measurement Unit (IMU) to detect motion/orientation\n",
    "* A 360&deg; laser displacement sensor (LIDAR) to detect its environment\n",
    "\n",
    "Two types of speed command can be issued to any robot:\n",
    "* **Linear speed**: The speed at which the robot moves forwards or backwards in one of the robot axes\n",
    "* **Angular speed**: The speed at which the robot rotates about one of its axes\n",
    "\n",
    "The TurtleBot3's principal axes are defined as follows:\n",
    "<img src=\"figures/TB3 Axes.png\">\n",
    "\n",
    "Because the TurtleBot3 robot has a *differential drive* configuration, it can only move **linearly** in the *roll (x)* axis.  In order to move to the left or right, it must first rotate to face the desired direction before moving forward.  Due to the configuration of it's drive motors, the robot can only **rotate** about it's *yaw (z)* axis.\n",
    "\n",
    "In the cell below use a **ROS command** to list of all the active topics that are currently running now that the simulation is active (you learnt how to do this last week).\n",
    "\n",
    "**Note:**  *Using the <code>!</code> symbol in this notebook allows us to issue commands to the underlying operating system, leave it where it is and type in your command after it.  This is the same as running the command (without the <code>!</code> symbol) in a terminal. With your cursor in the cell, press the <b>\"Run\"</b> button: <img src=\"figures/run_cell.PNG\"> or press `CTRL + ENTER`  to run the cell:*"
   ]
  },
  {
   "cell_type": "code",
   "execution_count": null,
   "metadata": {},
   "outputs": [],
   "source": [
    "!"
   ]
  },
  {
   "cell_type": "markdown",
   "metadata": {},
   "source": [
    "Which topic in the list do you think could be used to control the movement of the robot?  Use the `rostopic info` command on the topic in the cell below to find out more about it:"
   ]
  },
  {
   "cell_type": "code",
   "execution_count": null,
   "metadata": {},
   "outputs": [],
   "source": [
    "!"
   ]
  },
  {
   "cell_type": "markdown",
   "metadata": {},
   "source": [
    "The topic you have identified should use a message of type `geometry_msgs/Twist`. You will have to send messages in this format to this topic in order to make the robot move. In the following cell, use the `rosmsg` command to find out more about the message format:"
   ]
  },
  {
   "cell_type": "code",
   "execution_count": null,
   "metadata": {},
   "outputs": [],
   "source": [
    "!"
   ]
  },
  {
   "cell_type": "markdown",
   "metadata": {},
   "source": [
    "As we learnt above, the TurtleBot3 can only generate **linear velocity** in the *x axis*, and can only implement **angular velocity** in the *z axis*.  As a result, only velocity commands issued to `linear.x` or `angular.z` will have any effect."
   ]
  },
  {
   "cell_type": "markdown",
   "metadata": {},
   "source": [
    "### Exercise 1: Exploring Odometry Data\n",
    "\n",
    "Another topic that should have appeared in the list of all active topics above is `/odom`.  This topic contains **Odometry** data, which is also essential for robot navigation and is essentially the *feedback* signal indicating where a robot is located. \n",
    "\n",
    "1. In **a new terminal window** use the `rostopic echo` command to display the odometry data currently being published by our simulated robot:\n",
    "\n",
    "    `$ rostopic echo /odom`\n",
    "\n",
    "\n",
    "2. In **another new terminal window** launch the *keyboard_teleop* node as you did last week:\n",
    "\n",
    "    `$ roslaunch turtlebot3_teleop turtlebot3_teleop_key.launch`\n",
    "\n",
    "\n",
    "3. With the `rostopic echo` terminal and the *Gazebo Simulation* windows visible, but the `turtlebot3_teleop_key` terminal window active observe how the odometry data changes as the robot moves around in its simulated world\n",
    "\n",
    "4. Once done, press `CTRL + C` in the first webshell to stop the `rostopic echo` node (leave the keyboard teleop node running)\n",
    "\n",
    "5. Next, with the robot stationary, run a command to read **a single message** from the `/odom` topic (you learnt how to do this last week).  Find the section of the odometry message that contains the information about the robot's *position* and *orientation*.  Assign the values that you obtain from this to the variables in the cell below.  Click the *\"Run\"* button to run the cell, the values you entered should be printed below the cell."
   ]
  },
  {
   "cell_type": "code",
   "execution_count": null,
   "metadata": {},
   "outputs": [],
   "source": [
    "from support_matls.odometry import Odometry\n",
    "\n",
    "start = Odometry()\n",
    "\n",
    "## input your values here: ##\n",
    "start.position.x = \n",
    "start.position.y = \n",
    "start.position.z = \n",
    "\n",
    "start.orientation.x = \n",
    "start.orientation.y = \n",
    "start.orientation.z = \n",
    "start.orientation.w = \n",
    "\n",
    "print(start)"
   ]
  },
  {
   "cell_type": "markdown",
   "metadata": {},
   "source": [
    "6. Move the robot around a bit using the *turtlebot3_teleop* node\n",
    "7. Get some new data from the `/odom` topic by running the same `echo` command again\n",
    "8. Input this new data into the cell below in the same way as before, and run this cell as well.  The values you entered should be printed, as well as a summary of the difference between the odometry data before and after the movement."
   ]
  },
  {
   "cell_type": "code",
   "execution_count": null,
   "metadata": {},
   "outputs": [],
   "source": [
    "end = Odometry()\n",
    "\n",
    "## input your values below: ##\n",
    "end.position.x = \n",
    "end.position.y = \n",
    "end.position.z = \n",
    "\n",
    "end.orientation.x = \n",
    "end.orientation.y = \n",
    "end.orientation.z = \n",
    "end.orientation.w = \n",
    "##### end of user input ######\n",
    "\n",
    "print(end)\n",
    "\n",
    "from tf.transformations import euler_from_quaternion\n",
    "\n",
    "(roll1, pitch1, yaw1) = euler_from_quaternion(\n",
    "                            [start.orientation.x, start.orientation.y,\n",
    "                             start.orientation.z, start.orientation.w], \n",
    "                            'sxyz')\n",
    "\n",
    "(roll2, pitch2, yaw2) = euler_from_quaternion(\n",
    "                            [end.orientation.x, end.orientation.y,\n",
    "                             end.orientation.z, end.orientation.w], \n",
    "                            'sxyz')\n",
    "\n",
    "from support_matls.odometry import delta\n",
    "\n",
    "df = delta(start, (roll1, pitch1, yaw1), \n",
    "          end, (roll2, pitch2, yaw2))\n",
    "\n",
    "df"
   ]
  },
  {
   "cell_type": "markdown",
   "metadata": {},
   "source": [
    "### Odometry\n",
    "\n",
    "We can learn more about the Odometry data by using the `rostopic info` command:\n",
    "\n",
    "`$ rostopic info /odom`\n",
    "\n",
    "Which gives us information about the message *type*:\n",
    "\n",
    "    Type: nav_msgs/Odometry\n",
    "\n",
    "We can find out more about this using the `rosmsg info` command, run the cell below to find out more about the `nav_msgs/Odometry` message: "
   ]
  },
  {
   "cell_type": "code",
   "execution_count": null,
   "metadata": {},
   "outputs": [],
   "source": [
    "!rosmsg info nav_msgs/Odometry"
   ]
  },
  {
   "cell_type": "markdown",
   "metadata": {},
   "source": [
    "You can find out more about the output of this command, and how this can help you when working with odometry data [here](support_matls/Wk2%20REF%20Odometry.ipynb).\n",
    "\n",
    "From this, we can learn that the `nav_msgs/Odometry` message contains four *base* elements:\n",
    "1. header\n",
    "2. child_frame_id\n",
    "3. pose\n",
    "4. twist \n",
    "\n",
    "**pose** tells us the *position* and *orientation* of the robot relative to an arbitrary reference point (typically where the robot was when it was turned on).  The pose is determined from: \n",
    "1. Data from a Gyroscope, which is part of the Inertial Measurement Unit (*IMU*) onboard the OpenCV board \n",
    "1. Data from both the left and right wheel encoders\n",
    "1. An **estimation** of the distance travelled from its pre-defined reference point (dead-reckoning)\n",
    "\n",
    "*Position* data is important for determining the movement of our robot, and from this we can estimate its location in 3-dimensional space.  \n",
    "\n",
    "*Orientation* is expressed in units of [Quaternions](https://en.wikipedia.org/wiki/Quaternion), and needs to be converted into angles about the principal axes.  Fortunately, there are functions within the ROS `tf` library to do that for us, and the usage of this was illustrated in the exercise above:\n",
    "```python\n",
    "from tf.transformations import euler_from_quaternion\n",
    "\n",
    "(roll, pitch, yaw) = euler_from_quaternion([orientation.x, \n",
    "                       orientation.y, orientation.z, orientation.w], \n",
    "                       'sxyz')\n",
    "```\n",
    "Our TurtleBot3 robot can only move in a 2D plane, and so actually, the pose of the robot can be fully represented by <code>(x,y,&#952;<sub>z</sub>)</code>, where `x` and `y` are the 2D coordinates of the robot and <code>&#952;<sub>z</sub></code> is the angle of the robot about the `z` axis (the `yaw`).  You should have noticed this from the output of the cell above, where the **linear_z**, **theta_x** and **theta_y** values in the **delta** column should all have read `0.0`.\n",
    "\n",
    "<img src=\"figures/TB3_Waffle_Pose2.png\">\n",
    "\n",
    "**twist** tells us the current linear and angular velocities of the robot, and this data comes directly from the wheel encoders.\n",
    "\n",
    "All this data is defined in terms of the principal axes illustrated in the figure earlier."
   ]
  },
  {
   "cell_type": "markdown",
   "metadata": {},
   "source": [
    "### Exercise 2: Moving a robot with `rostopic` in the terminal\n",
    "\n",
    "**NOTE:** *Before starting this exercise, you will need to stop the **turtlebot3_teleop** node.  Navigate to the terminal window where this node is running and enter `CTRL + C` to stop it.*\n",
    "\n",
    "We can use the `rostopic pub` command to publish data to a topic from within a terminal by using the command in the following way:\n",
    "\n",
    "`rostopic pub [topic_name] [message_type] [data]`\n",
    "    \n",
    "\n",
    "As we discovered earlier, the <code>/cmd_vel</code> topic is expecting **linear** and **angular** data, each with an <b>x</b>, <b>y</b> and <b>z</b> component.  We can get further help with formatting this message by using the autocomplete functionality within the terminal (as you discovered last week).  **Type** the following into an inactive terminal window (copying and pasting will not work here):\n",
    "\n",
    "`rostopic pub /cmd_vel geometry_msgs/Twist [SPACE] [TAB] [TAB]`\n",
    "\n",
    "1. Use this to help you enter velocity commands in the terminal.  Enter values to make the robot rotate on the spot and note down the command that you used in the cell below:"
   ]
  },
  {
   "cell_type": "code",
   "execution_count": null,
   "metadata": {},
   "outputs": [],
   "source": []
  },
  {
   "cell_type": "markdown",
   "metadata": {},
   "source": [
    "2. Enter `CTRL + C` in the terminal to stop the message from being published\n",
    "3. Next, enter a command in the terminal to make the robot move in a circle and, again, note down the command that you used in the cell below:"
   ]
  },
  {
   "cell_type": "code",
   "execution_count": null,
   "metadata": {},
   "outputs": [],
   "source": []
  },
  {
   "cell_type": "markdown",
   "metadata": {},
   "source": [
    "4. Enter `CTRL + C` in the terminal to stop the message from being published\n",
    "5. How do we stop the TurtleBot?  Note down the command that you used in the cell below:"
   ]
  },
  {
   "cell_type": "code",
   "execution_count": null,
   "metadata": {},
   "outputs": [],
   "source": []
  },
  {
   "cell_type": "markdown",
   "metadata": {},
   "source": [
    "6. Enter `CTRL + C` in the terminal to stop the message from being published"
   ]
  },
  {
   "cell_type": "markdown",
   "metadata": {},
   "source": [
    "### Exercise 3: Creating a python node to process Odometry data\n",
    "\n",
    "Last week you learnt how to create a package and build simple nodes in Python to publish and subscribe to messages on a topic.  You can view the worksheet for last weeks lab session [here](past_weeks/COM2009_WK01/wk01%20-%20ROS%20Concepts%201.ipynb)\n",
    "\n",
    "1. In the same way as last week, you will need to create a package, this time called **nav_exercise**, which depends on the `rospy`, `nav_msgs` and `geometry_msgs` libraries.  Use the `catkin_create_pkg` tool as you did last week.  *Remember to ensure that you are located in the **~/catkin_ws/src/** directory before you do*:\n",
    "    \n",
    "    `$ cd ~/catkin_ws/src/`\n",
    "    \n",
    "    \n",
    "2. Navigate to the **src** folder within your **nav_exercise** package using the `cd` command\n",
    "3. The **subscriber.py** file that you used last week is available on github, and you can use this as a template for creating your odometry subscriber.  Download the file into the **~/catkin_ws/src/nav_exercise/src** folder by using the following command once you are located in the right place:\n",
    "\n",
    "    `$ wget https://raw.githubusercontent.com/tom-howard/COM2009_WK01/master/support_matls/subscriber.py`\n",
    "  \n",
    "  \n",
    "4. Next, use the linux `mv` command to rename (or *move*) the **subscriber.py** file to **odom_subscriber.py**: \n",
    "\n",
    "    `$ mv subscriber.py odom_subscriber.py`\n",
    "    \n",
    "    \n",
    "5. In the same way as last week, make this file executable using the `chmod` command\n",
    "6. Open up the *IDE*, navigate to the **odom_subscriber.py** file and edit it to subscribe and print odometry data to the console:\n",
    "    1. You will need to make sure that you are importing the correct message type at the start of your code so that you can work with the Odometry data (be aware that the **Odometry** message is part of the **nav_msgs** library, and see the further informaton on this message type [here](support_matls/Wk2%20REF%20Odometry.ipynb)). \n",
    "    2. Your python node should convert the raw odometry data to a <code>(x,y,&#952;<sub>z</sub>)</code> format using the `euler_from_quaternion` function from the `tf.transformations` library as illustrated earlier\n",
    "5. Launch your node using `rosrun` and observe the changes to the odometry data whilst moving the robot around using the **keyboard_teleop** node\n",
    "\n",
    "**At this point, show your work to a demonstrator**"
   ]
  },
  {
   "cell_type": "markdown",
   "metadata": {},
   "source": [
    "### Exercise 4: Creating a python node to make the TurtleBot3 move\n",
    "\n",
    "You will now create another node to control the motion of your TurtleBot3 robot by publishing messages to the `/cmd_vel` topic.  You created a publisher node last week, and you can use this as a starting point.\n",
    "\n",
    "1. First, close down the `turtlebot3_teleop_key` node by navigating to the terminal where it is active, and entering `CTRL + C`.  You can then close down this terminal window if you want to.\n",
    "2. Then, also close down your **odom_subscriber.py** node in the same way\n",
    "3. Ensure that you are still located within the **src** folder of your **nav_exercise** package.  You could use `$ pwd` to check your current working directory, and the output should look like this:\n",
    "        /home/user/catkin_ws/src/nav_exercise/src\n",
    "    If you aren't located here, then navigate to this directory using `cd`\n",
    "4. The **publisher.py** file that you used last week is also available on github.  Download the file into the **nav_exercise/src** folder by using the following command in your package **src** folder:\n",
    "\n",
    "    `$ wget https://raw.githubusercontent.com/tom-howard/COM2009_WK01/master/support_matls/publisher.py`\n",
    "  \n",
    "  \n",
    "5. As with the previous exercise, use the `mv` command to rename the file to **move_circle.py**    \n",
    "6. Again, make sure **this** file is also **executable** using the `chmod` command\n",
    "7. Open up the *IDE*, navigate to the new file and edit it.  \n",
    "    1. The goal is to make your TurtleBot3 move in a circle, with a path radius of approximately 0.5m\n",
    "    2. The python node needs to publish `Twist` messages to the `/cmd_vel` topic in order to make the TurtleBot move.  Have a look at a usage example [here](support_matls/Wk2%20Ex4%20TwistUsageExample.ipynb)  \n",
    "    3. For our Turtlebot3s, the maximum linear velocity (`linear.x`) is 0.26m/s, and the maximum angular velocity (`angular.z`) is 1.82rad/s \n",
    "    4. Make sure that you program your `shutdown_function()` correctly so that the robot stops moving when the node is shutdown (via `CTRL + C` from the terminal)\n",
    "8. Create a launch file for your **move_circle.py** and **odom_subscriber.py** nodes as we did last week, and launch them using the `roslaunch` command.  If you want to, you can download last weeks launch file by using the `wget` command again with a new URL as below, but remember that you will need to put this in a **launch** folder within your package directory and you may wish to renaming this to something more relevant too. \n",
    "\n",
    "    `$ wget https://raw.githubusercontent.com/tom-howard/COM2009_WK01/master/support_matls/pub_sub.launch`\n",
    "\n",
    "**Once done, show your work to a demonstrator**"
   ]
  },
  {
   "cell_type": "markdown",
   "metadata": {},
   "source": [
    "### Exercise 5: Make your robot follow a *Square* motion profile (if you have time)\n",
    "\n",
    "1. Close down your python nodes from Exercise 4 by using `CTRL + C`\n",
    "1. Create a copy of the **move_circle.py** node that you created in Execise 4 using the `cp` command and call it **move_square.py** \n",
    "1. Modify the code in the *IDE* to make your robot follow a **square motion profile of 0.3m x 0.3m dimensions**\n",
    "1. You may need to both *subscribe* and *publish* to topics within the same node to achieve the desired functionality here, so use what you have done in your separate **move_circle.py** and **odom_subscriber.py** nodes to help you\n",
    "1. Execute the **move_square.py** node using the `rosrun` command\n",
    "\n",
    "**There will be an opportunity to finish this off at the start of next week's session, if you don't have time to finish it today, but you could always give this a go in your own time too.**"
   ]
  },
  {
   "cell_type": "markdown",
   "metadata": {},
   "source": [
    "## Summary of Week 2\n",
    "\n",
    "This is the end of the Week 2 lab tasks.  Next week you will implement the motion controller package that you have built here on an actual robot, and also look at more advanced methods of robot navigation using the *ROS Navigation Stack* and *SLAM*.\n",
    "\n",
    "* In this session we have explored the odometry data that is published to the `/odom` topic by a robot\n",
    "    * This tells us where in physical space our robot is located and oriented, which can be used for *dead-reckoning navigation*\n",
    "    * The odometry data also contains *Twist* information, which tells us the current linear and angular velocities of our robot in terms of its 3 principal axes\n",
    "* We have also used the `/cmd_vel` topic to publish velocity commands to our robot to make it move \n",
    "* From the exercises, we have learnt that navigation based on odometry alone is not easy, and might lead to error.  You will find out more about this next week..."
   ]
  },
  {
   "cell_type": "markdown",
   "metadata": {},
   "source": [
    "# Saving, exiting and downloading a copy of your work\n",
    "\n",
    "1. You should now save this notebook using the **Save and Checkpoint** button in the top left of this Jupyter Notebook window: <img src=\"figures/pynb_save_button.PNG\">\n",
    "2. Then click the **Save your ROSject** button in the top right hand side of the browser window\n",
    "3. Once done, click on the **Manage your ROSjects** button to return to your main dashboard page for the ROS Development Studio: <img src=\"figures/ROSDS_buttons.PNG\">\n",
    "4. When in your dashboard area, click on the download button for this weeks project to download a copy of all the work you have done today to a zip archive for your own records (you may need to use some of this next week): <img src=\"figures/dashboard_buttons.PNG\">\n",
    "\n",
    "# Acknowledgements\n",
    "\n",
    "This notebook was created by Dr Tom Howard (The University of Sheffield, UK) based on pre-existing course material published by [The Construct](https://www.theconstructsim.com/) and [the Official ROS Tutorials](http://wiki.ros.org/ROS/Tutorials)"
   ]
  },
  {
   "cell_type": "markdown",
   "metadata": {},
   "source": [
    "Tom Howard  \n",
    "The University of Sheffield  \n",
    "Last Updated: 23/01/2020"
   ]
  }
 ],
 "metadata": {
  "kernelspec": {
   "display_name": "Python 2",
   "language": "python",
   "name": "python2"
  },
  "language_info": {
   "codemirror_mode": {
    "name": "ipython",
    "version": 2
   },
   "file_extension": ".py",
   "mimetype": "text/x-python",
   "name": "python",
   "nbconvert_exporter": "python",
   "pygments_lexer": "ipython2",
   "version": "2.7.16"
  }
 },
 "nbformat": 4,
 "nbformat_minor": 2
}
